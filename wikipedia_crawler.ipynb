{
  "nbformat": 4,
  "nbformat_minor": 0,
  "metadata": {
    "colab": {
      "name": "wikipedia_crawler.ipynb",
      "provenance": [],
      "collapsed_sections": [],
      "authorship_tag": "ABX9TyPKHNPHfH7Z29s8kHsPTvK7",
      "include_colab_link": true
    },
    "kernelspec": {
      "name": "python3",
      "display_name": "Python 3"
    },
    "language_info": {
      "name": "python"
    }
  },
  "cells": [
    {
      "cell_type": "markdown",
      "metadata": {
        "id": "view-in-github",
        "colab_type": "text"
      },
      "source": [
        "<a href=\"https://colab.research.google.com/github/SamahAyman/Geopedia_DatabaseSystems/blob/main/wikipedia_crawler.ipynb\" target=\"_parent\"><img src=\"https://colab.research.google.com/assets/colab-badge.svg\" alt=\"Open In Colab\"/></a>"
      ]
    },
    {
      "cell_type": "code",
      "metadata": {
        "colab": {
          "base_uri": "https://localhost:8080/"
        },
        "id": "KMv_wq_du0NX",
        "outputId": "802c9d21-7075-49c7-c5d0-0b99b70cab8c"
      },
      "source": [
        "!pip install beautifulsoup4\n",
        "!pip install pandas"
      ],
      "execution_count": null,
      "outputs": [
        {
          "output_type": "stream",
          "name": "stdout",
          "text": [
            "Requirement already satisfied: beautifulsoup4 in /usr/local/lib/python3.7/dist-packages (4.6.3)\n",
            "Requirement already satisfied: pandas in /usr/local/lib/python3.7/dist-packages (1.1.5)\n",
            "Requirement already satisfied: python-dateutil>=2.7.3 in /usr/local/lib/python3.7/dist-packages (from pandas) (2.8.2)\n",
            "Requirement already satisfied: numpy>=1.15.4 in /usr/local/lib/python3.7/dist-packages (from pandas) (1.19.5)\n",
            "Requirement already satisfied: pytz>=2017.2 in /usr/local/lib/python3.7/dist-packages (from pandas) (2018.9)\n",
            "Requirement already satisfied: six>=1.5 in /usr/local/lib/python3.7/dist-packages (from python-dateutil>=2.7.3->pandas) (1.15.0)\n"
          ]
        }
      ]
    },
    {
      "cell_type": "code",
      "metadata": {
        "id": "uB9ejW-hvIMe"
      },
      "source": [
        "# import the libraries\n",
        "import requests\n",
        "import bs4\n",
        "from bs4 import BeautifulSoup\n",
        "from bs4 import NavigableString"
      ],
      "execution_count": null,
      "outputs": []
    },
    {
      "cell_type": "code",
      "metadata": {
        "colab": {
          "base_uri": "https://localhost:8080/"
        },
        "id": "3XVZy4a9Wye6",
        "outputId": "29fd0971-ae5a-4539-ab2f-906711025cb3"
      },
      "source": [
        "#the seed URL of all continents of the world\n",
        "URL = \"https://en.wikipedia.org/wiki/List_of_sovereign_states_and_dependent_territories_in_\"\n",
        "\n",
        "#list for the continents names and their wiki URLs\n",
        "continents = {}\n",
        "continents ['continent_name'] = ['Africa','Asia','Europe','North_America','South_America','Oceania','Antarctica']\n",
        "continents ['continent_url']  = []\n",
        "for i in range(7):\n",
        "    continents ['continent_url'].append(URL+continents ['continent_name'][i])\n",
        "\n",
        "#print the list of all continents names and their wiki URLs\n",
        "print( continents ['continent_name'])\n",
        "print(*continents ['continent_url'], sep = \"\\n\")\n"
      ],
      "execution_count": null,
      "outputs": [
        {
          "output_type": "stream",
          "name": "stdout",
          "text": [
            "['Africa', 'Asia', 'Europe', 'North_America', 'South_America', 'Oceania', 'Antarctica']\n",
            "https://en.wikipedia.org/wiki/List_of_sovereign_states_and_dependent_territories_in_Africa\n",
            "https://en.wikipedia.org/wiki/List_of_sovereign_states_and_dependent_territories_in_Asia\n",
            "https://en.wikipedia.org/wiki/List_of_sovereign_states_and_dependent_territories_in_Europe\n",
            "https://en.wikipedia.org/wiki/List_of_sovereign_states_and_dependent_territories_in_North_America\n",
            "https://en.wikipedia.org/wiki/List_of_sovereign_states_and_dependent_territories_in_South_America\n",
            "https://en.wikipedia.org/wiki/List_of_sovereign_states_and_dependent_territories_in_Oceania\n",
            "https://en.wikipedia.org/wiki/List_of_sovereign_states_and_dependent_territories_in_Antarctica\n"
          ]
        }
      ]
    },
    {
      "cell_type": "code",
      "metadata": {
        "colab": {
          "base_uri": "https://localhost:8080/"
        },
        "id": "X7uDswsIkN8v",
        "outputId": "b26d28d3-6f8b-441e-b88f-c5e9dbb9834c"
      },
      "source": [
        "#list of all the countries of the world (from all the 7 continents)\n",
        "countries = {}\n",
        "countries['country_index'] = []\n",
        "countries['country_name']  = []\n",
        "countries['country_url']  = []\n",
        "countries_counter = 0\n",
        "\n",
        "#getting the countries names and URLs\n",
        "for continent in range(7):\n",
        "    page = requests.get(continents ['continent_url'][continent])\n",
        "    soup = BeautifulSoup(page.content)\n",
        "\n",
        "    # getting the table rows\n",
        "    table_rows = list(soup.find(class_ = \"wikitable\").tbody.children) \n",
        "    table_rows_num = len(table_rows)\n",
        "    \n",
        "    #getting the country_name\n",
        "    for i in range(table_rows_num): \n",
        "        table_row = table_rows[i]\n",
        "        country_name = None\n",
        "        if type(table_row)!= bs4.element.NavigableString:           \n",
        "            for table_data in table_row.children:\n",
        "                # getting country_name\n",
        "                if type(table_data)!= bs4.element.NavigableString:\n",
        "                    country_tag = table_data.find(\"a\", title=True)\n",
        "                    if country_tag:\n",
        "                        if not country_name:\n",
        "                            country_name = country_tag.text\n",
        "                            if country_name:\n",
        "                                countries_counter +=1\n",
        "                                countries['country_name'].append(country_name)\n",
        "                                countries['country_index'].append(countries_counter)\n",
        "                                countries['country_url'].append('https://en.wikipedia.org' + country_tag.get('href'))\n",
        "                              \n",
        "\n",
        "print(\"number of countries of the world = \", countries_counter)\n",
        "print (countries['country_name'])\n",
        "print (countries['country_index'])\n",
        "print (countries['country_url'])\n"
      ],
      "execution_count": null,
      "outputs": [
        {
          "output_type": "stream",
          "name": "stdout",
          "text": [
            "number of countries of the world =  162\n",
            "['Algeria', 'Angola', 'Benin', 'Botswana', 'Burkina Faso', 'Burundi', 'Cameroon', 'Cape Verde', 'Central African Republic', 'Chad', 'Comoros', 'Democratic Republic of the Congo', 'Republic of the Congo', 'Djibouti', 'Egypt', 'Equatorial Guinea', 'Eritrea', 'Eswatini', 'Ethiopia', 'Gabon', 'The Gambia', 'Ghana', 'Guinea', 'Guinea-Bissau', 'Ivory Coast', 'Kenya', 'Lesotho', 'Liberia', 'Libya', 'Madagascar', 'Malawi', 'Mali', 'Mauritania', 'Mauritius', 'Morocco', 'Mozambique', 'Namibia', 'Niger', 'Nigeria', 'Rwanda', 'Sao Tome and Principe', 'Senegal', 'Seychelles', 'Sierra Leone', 'Somalia', 'South Africa', 'South Sudan', 'Sudan', 'Tanzania', 'Togo', 'Tunisia', 'Uganda', 'Zambia', 'Zimbabwe', 'Afghanistan', 'Armenia', 'Azerbaijan', 'Bahrain', 'Bangladesh', 'Bhutan', 'Brunei', 'Cambodia', 'China', 'Cyprus', 'Egypt', 'Georgia', 'India', 'Indonesia', 'Iran', 'Iraq', 'Israel', 'Japan', 'Jordan', 'Kazakhstan', 'North Korea', 'South Korea', 'Kuwait', 'Kyrgyzstan', 'Laos', 'Lebanon', 'Malaysia', 'Maldives', 'Mongolia', 'Myanmar', 'Nepal', 'Oman', 'Pakistan', 'Philippines', 'Qatar', 'Russia', 'Saudi Arabia', 'Singapore', 'Sri Lanka', 'Syria', 'Tajikistan', 'Thailand', 'Timor-Leste/East Timor', 'Turkey', 'Turkmenistan', 'United Arab Emirates', 'Uzbekistan', 'Vietnam', 'Yemen', 'Antigua and Barbuda', 'Bahamas, The', 'Barbados', 'Belize', 'Canada', 'Costa Rica', 'Cuba', 'Dominica', 'Dominican Republic', 'El Salvador', 'Grenada', 'Guatemala', 'Haiti', 'Honduras', 'Jamaica', 'Mexico', 'Nicaragua', 'Panama', 'Saint Kitts and Nevis', 'Saint Lucia', 'Saint Vincent and the Grenadines', 'Trinidad and Tobago', 'United States', 'ISO code', 'Argentina', 'Bolivia', 'Brazil', 'Chile', 'Colombia', 'Ecuador', 'Guyana', 'Paraguay', 'Peru', 'Suriname', 'Uruguay', 'Venezuela', 'Australia', 'Federated States of Micronesia', 'Fiji', 'Indonesia', 'Kiribati', 'Marshall Islands', 'Nauru', 'New Zealand', 'Palau', 'Papua New Guinea', 'Samoa', 'Solomon Islands', 'Tonga', 'Tuvalu', 'Vanuatu', 'Adélie Land', 'Argentine Antarctica', 'Australian Antarctic Territory', 'British Antarctic Territory', 'Chilean Antarctic Territory', 'Peter I Island', 'Queen Maud Land', 'Ross Dependency']\n",
            "[1, 2, 3, 4, 5, 6, 7, 8, 9, 10, 11, 12, 13, 14, 15, 16, 17, 18, 19, 20, 21, 22, 23, 24, 25, 26, 27, 28, 29, 30, 31, 32, 33, 34, 35, 36, 37, 38, 39, 40, 41, 42, 43, 44, 45, 46, 47, 48, 49, 50, 51, 52, 53, 54, 55, 56, 57, 58, 59, 60, 61, 62, 63, 64, 65, 66, 67, 68, 69, 70, 71, 72, 73, 74, 75, 76, 77, 78, 79, 80, 81, 82, 83, 84, 85, 86, 87, 88, 89, 90, 91, 92, 93, 94, 95, 96, 97, 98, 99, 100, 101, 102, 103, 104, 105, 106, 107, 108, 109, 110, 111, 112, 113, 114, 115, 116, 117, 118, 119, 120, 121, 122, 123, 124, 125, 126, 127, 128, 129, 130, 131, 132, 133, 134, 135, 136, 137, 138, 139, 140, 141, 142, 143, 144, 145, 146, 147, 148, 149, 150, 151, 152, 153, 154, 155, 156, 157, 158, 159, 160, 161, 162]\n",
            "['https://en.wikipedia.org/wiki/Algeria', 'https://en.wikipedia.org/wiki/Angola', 'https://en.wikipedia.org/wiki/Benin', 'https://en.wikipedia.org/wiki/Botswana', 'https://en.wikipedia.org/wiki/Burkina_Faso', 'https://en.wikipedia.org/wiki/Burundi', 'https://en.wikipedia.org/wiki/Cameroon', 'https://en.wikipedia.org/wiki/Cape_Verde', 'https://en.wikipedia.org/wiki/Central_African_Republic', 'https://en.wikipedia.org/wiki/Chad', 'https://en.wikipedia.org/wiki/Comoros', 'https://en.wikipedia.org/wiki/Democratic_Republic_of_the_Congo', 'https://en.wikipedia.org/wiki/Republic_of_the_Congo', 'https://en.wikipedia.org/wiki/Djibouti', 'https://en.wikipedia.org/wiki/Egypt', 'https://en.wikipedia.org/wiki/Equatorial_Guinea', 'https://en.wikipedia.org/wiki/Eritrea', 'https://en.wikipedia.org/wiki/Eswatini', 'https://en.wikipedia.org/wiki/Ethiopia', 'https://en.wikipedia.org/wiki/Gabon', 'https://en.wikipedia.org/wiki/The_Gambia', 'https://en.wikipedia.org/wiki/Ghana', 'https://en.wikipedia.org/wiki/Guinea', 'https://en.wikipedia.org/wiki/Guinea-Bissau', 'https://en.wikipedia.org/wiki/Ivory_Coast', 'https://en.wikipedia.org/wiki/Kenya', 'https://en.wikipedia.org/wiki/Lesotho', 'https://en.wikipedia.org/wiki/Liberia', 'https://en.wikipedia.org/wiki/Libya', 'https://en.wikipedia.org/wiki/Madagascar', 'https://en.wikipedia.org/wiki/Malawi', 'https://en.wikipedia.org/wiki/Mali', 'https://en.wikipedia.org/wiki/Mauritania', 'https://en.wikipedia.org/wiki/Mauritius', 'https://en.wikipedia.org/wiki/Morocco', 'https://en.wikipedia.org/wiki/Mozambique', 'https://en.wikipedia.org/wiki/Namibia', 'https://en.wikipedia.org/wiki/Niger', 'https://en.wikipedia.org/wiki/Nigeria', 'https://en.wikipedia.org/wiki/Rwanda', 'https://en.wikipedia.org/wiki/Sao_Tome_and_Principe', 'https://en.wikipedia.org/wiki/Senegal', 'https://en.wikipedia.org/wiki/Seychelles', 'https://en.wikipedia.org/wiki/Sierra_Leone', 'https://en.wikipedia.org/wiki/Somalia', 'https://en.wikipedia.org/wiki/South_Africa', 'https://en.wikipedia.org/wiki/South_Sudan', 'https://en.wikipedia.org/wiki/Sudan', 'https://en.wikipedia.org/wiki/Tanzania', 'https://en.wikipedia.org/wiki/Togo', 'https://en.wikipedia.org/wiki/Tunisia', 'https://en.wikipedia.org/wiki/Uganda', 'https://en.wikipedia.org/wiki/Zambia', 'https://en.wikipedia.org/wiki/Zimbabwe', 'https://en.wikipedia.org/wiki/Afghanistan', 'https://en.wikipedia.org/wiki/Armenia', 'https://en.wikipedia.org/wiki/Azerbaijan', 'https://en.wikipedia.org/wiki/Bahrain', 'https://en.wikipedia.org/wiki/Bangladesh', 'https://en.wikipedia.org/wiki/Bhutan', 'https://en.wikipedia.org/wiki/Brunei', 'https://en.wikipedia.org/wiki/Cambodia', 'https://en.wikipedia.org/wiki/China', 'https://en.wikipedia.org/wiki/Cyprus', 'https://en.wikipedia.org/wiki/Egypt', 'https://en.wikipedia.org/wiki/Georgia_(country)', 'https://en.wikipedia.org/wiki/India', 'https://en.wikipedia.org/wiki/Indonesia', 'https://en.wikipedia.org/wiki/Iran', 'https://en.wikipedia.org/wiki/Iraq', 'https://en.wikipedia.org/wiki/Israel', 'https://en.wikipedia.org/wiki/Japan', 'https://en.wikipedia.org/wiki/Jordan', 'https://en.wikipedia.org/wiki/Kazakhstan', 'https://en.wikipedia.org/wiki/North_Korea', 'https://en.wikipedia.org/wiki/South_Korea', 'https://en.wikipedia.org/wiki/Kuwait', 'https://en.wikipedia.org/wiki/Kyrgyzstan', 'https://en.wikipedia.org/wiki/Laos', 'https://en.wikipedia.org/wiki/Lebanon', 'https://en.wikipedia.org/wiki/Malaysia', 'https://en.wikipedia.org/wiki/Maldives', 'https://en.wikipedia.org/wiki/Mongolia', 'https://en.wikipedia.org/wiki/Myanmar', 'https://en.wikipedia.org/wiki/Nepal', 'https://en.wikipedia.org/wiki/Oman', 'https://en.wikipedia.org/wiki/Pakistan', 'https://en.wikipedia.org/wiki/Philippines', 'https://en.wikipedia.org/wiki/Qatar', 'https://en.wikipedia.org/wiki/Russia', 'https://en.wikipedia.org/wiki/Saudi_Arabia', 'https://en.wikipedia.org/wiki/Singapore', 'https://en.wikipedia.org/wiki/Sri_Lanka', 'https://en.wikipedia.org/wiki/Syria', 'https://en.wikipedia.org/wiki/Tajikistan', 'https://en.wikipedia.org/wiki/Thailand', 'https://en.wikipedia.org/wiki/East_Timor', 'https://en.wikipedia.org/wiki/Turkey', 'https://en.wikipedia.org/wiki/Turkmenistan', 'https://en.wikipedia.org/wiki/United_Arab_Emirates', 'https://en.wikipedia.org/wiki/Uzbekistan', 'https://en.wikipedia.org/wiki/Vietnam', 'https://en.wikipedia.org/wiki/Yemen', 'https://en.wikipedia.org/wiki/Antigua_and_Barbuda', 'https://en.wikipedia.org/wiki/The_Bahamas', 'https://en.wikipedia.org/wiki/Barbados', 'https://en.wikipedia.org/wiki/Belize', 'https://en.wikipedia.org/wiki/Canada', 'https://en.wikipedia.org/wiki/Costa_Rica', 'https://en.wikipedia.org/wiki/Cuba', 'https://en.wikipedia.org/wiki/Dominica', 'https://en.wikipedia.org/wiki/Dominican_Republic', 'https://en.wikipedia.org/wiki/El_Salvador', 'https://en.wikipedia.org/wiki/Grenada', 'https://en.wikipedia.org/wiki/Guatemala', 'https://en.wikipedia.org/wiki/Haiti', 'https://en.wikipedia.org/wiki/Honduras', 'https://en.wikipedia.org/wiki/Jamaica', 'https://en.wikipedia.org/wiki/Mexico', 'https://en.wikipedia.org/wiki/Nicaragua', 'https://en.wikipedia.org/wiki/Panama', 'https://en.wikipedia.org/wiki/Saint_Kitts_and_Nevis', 'https://en.wikipedia.org/wiki/Saint_Lucia', 'https://en.wikipedia.org/wiki/Saint_Vincent_and_the_Grenadines', 'https://en.wikipedia.org/wiki/Trinidad_and_Tobago', 'https://en.wikipedia.org/wiki/United_States', 'https://en.wikipedia.org/wiki/ISO_3166-1', 'https://en.wikipedia.org/wiki/Argentina', 'https://en.wikipedia.org/wiki/Bolivia', 'https://en.wikipedia.org/wiki/Brazil', 'https://en.wikipedia.org/wiki/Chile', 'https://en.wikipedia.org/wiki/Colombia', 'https://en.wikipedia.org/wiki/Ecuador', 'https://en.wikipedia.org/wiki/Guyana', 'https://en.wikipedia.org/wiki/Paraguay', 'https://en.wikipedia.org/wiki/Peru', 'https://en.wikipedia.org/wiki/Suriname', 'https://en.wikipedia.org/wiki/Uruguay', 'https://en.wikipedia.org/wiki/Venezuela', 'https://en.wikipedia.org/wiki/Australia', 'https://en.wikipedia.org/wiki/Federated_States_of_Micronesia', 'https://en.wikipedia.org/wiki/Fiji', 'https://en.wikipedia.org/wiki/Indonesia', 'https://en.wikipedia.org/wiki/Kiribati', 'https://en.wikipedia.org/wiki/Marshall_Islands', 'https://en.wikipedia.org/wiki/Nauru', 'https://en.wikipedia.org/wiki/New_Zealand', 'https://en.wikipedia.org/wiki/Palau', 'https://en.wikipedia.org/wiki/Papua_New_Guinea', 'https://en.wikipedia.org/wiki/Samoa', 'https://en.wikipedia.org/wiki/Solomon_Islands', 'https://en.wikipedia.org/wiki/Tonga', 'https://en.wikipedia.org/wiki/Tuvalu', 'https://en.wikipedia.org/wiki/Vanuatu', 'https://en.wikipedia.org/wiki/Ad%C3%A9lie_Land', 'https://en.wikipedia.org/wiki/Argentine_Antarctica', 'https://en.wikipedia.org/wiki/Australian_Antarctic_Territory', 'https://en.wikipedia.org/wiki/British_Antarctic_Territory', 'https://en.wikipedia.org/wiki/Chilean_Antarctic_Territory', 'https://en.wikipedia.org/wiki/Peter_I_Island', 'https://en.wikipedia.org/wiki/Queen_Maud_Land', 'https://en.wikipedia.org/wiki/Ross_Dependency']\n"
          ]
        }
      ]
    },
    {
      "cell_type": "code",
      "metadata": {
        "id": "j2UVHee6kN4k",
        "colab": {
          "base_uri": "https://localhost:8080/"
        },
        "outputId": "c7645d1e-5c7d-4348-84b6-ab1d3728c9c0"
      },
      "source": [
        "############### defining the methods to get president info ###############\n",
        "presidents = {}\n",
        "presidents['name'] = []\n",
        "presidents['birthdate'] = []\n",
        "presidents['assuming_office_date'] = []\n",
        "presidents['political_party'] = []\n",
        "presidents['president_name'] = []\n",
        "presidents['ruling_country'] = []\n",
        "\n",
        "president_entry = []\n",
        "#getting the president name\n",
        "def get_president_name(url):\n",
        "    name=url.rsplit('/',1)\n",
        "    name=url.rsplit('/',1)[1]\n",
        "    name=name.replace('_', ' ')\n",
        "    return name\n",
        "\n",
        "#getting the president birthdate\n",
        "def get_president_birthdate(url):\n",
        "    page = requests.get(url)\n",
        "    soup = BeautifulSoup(page.content)\n",
        "    table = soup.find(class_ = \"infobox vcard\").tbody.children     \n",
        "    if type(table)!= bs4.element.NavigableString:           \n",
        "        for table_data in table:\n",
        "            if type(table_data)!= bs4.element.NavigableString:\n",
        "                tag = table_data.find(\"th\")\n",
        "                if (tag is None):\n",
        "                  continue\n",
        "                if (tag.text == \"Born\"):\n",
        "                  birthdate = tag.find_next_sibling()\n",
        "                  birthdate = birthdate.find(\"span\").text\n",
        "    return birthdate\n",
        "\n",
        "#getting the date the president assumed office\n",
        "def get_president_assuming_office_date(url):\n",
        "    page = requests.get(url)\n",
        "    soup = BeautifulSoup(page.content, 'html5lib')\n",
        "    table = soup.find(class_ = \"infobox vcard\").tbody \n",
        "    tag = table.find(string=re.compile(\"Assumed office\")).find_parent('td').text\n",
        "    assuming_office = tag\n",
        "    return assuming_office\n",
        "\n",
        "#getting the president political party\n",
        "def get_president_political_party(url):  #need to pass the url of the president here\n",
        "    page = requests.get(url)\n",
        "    soup = BeautifulSoup(page.content)\n",
        "    table = soup.find(class_ = \"infobox vcard\").tbody.children     \n",
        "    if type(table)!= bs4.element.NavigableString:           \n",
        "        for table_data in table:\n",
        "            if type(table_data)!= bs4.element.NavigableString:\n",
        "                tag = table_data.find(\"th\")\n",
        "                if (tag is None):\n",
        "                  continue\n",
        "                if (tag.text == \"Political party\"):\n",
        "                  political_party = tag.find_next_sibling().text \n",
        "    return political_party \n",
        "\n",
        "##########################################################################\n",
        "\n",
        "url = \"https://en.wikipedia.org/wiki/Abdelmadjid_Tebboune\"\n",
        "url = \"https://en.wikipedia.org/wiki/Abdel_Fattah_el-Sisi\"\n",
        "name = get_president_name(url)\n",
        "birthdate = get_president_birthdate(url)\n",
        "assumed = get_president_assuming_office_date(url)\n",
        "party = get_president_political_party(url)\n",
        "print(name)\n",
        "print(birthdate)\n",
        "print(assumed)\n",
        "print(party)\n"
      ],
      "execution_count": null,
      "outputs": [
        {
          "output_type": "stream",
          "name": "stdout",
          "text": [
            "Jo%C3%A3o Louren%C3%A7o\n",
            " (1954-03-05) \n",
            "Assumed office 26 September 2017\n",
            "People's Movement for the Liberation of Angola (MPLA) (1974–present)\n"
          ]
        }
      ]
    },
    {
      "cell_type": "code",
      "metadata": {
        "id": "UMA6d-8VxDqq"
      },
      "source": [
        ""
      ],
      "execution_count": null,
      "outputs": []
    },
    {
      "cell_type": "code",
      "metadata": {
        "id": "NVM2E4mnxDnK"
      },
      "source": [
        ""
      ],
      "execution_count": null,
      "outputs": []
    },
    {
      "cell_type": "code",
      "metadata": {
        "id": "qylOhtHexC60"
      },
      "source": [
        ""
      ],
      "execution_count": null,
      "outputs": []
    },
    {
      "cell_type": "code",
      "metadata": {
        "id": "Kdk5ZvKFxC5I"
      },
      "source": [
        ""
      ],
      "execution_count": null,
      "outputs": []
    },
    {
      "cell_type": "code",
      "metadata": {
        "id": "ogfhIiS_xC28"
      },
      "source": [
        ""
      ],
      "execution_count": null,
      "outputs": []
    },
    {
      "cell_type": "code",
      "metadata": {
        "id": "rjOlzxrFxC0o"
      },
      "source": [
        ""
      ],
      "execution_count": null,
      "outputs": []
    },
    {
      "cell_type": "code",
      "metadata": {
        "id": "a1Nc8CqAxCyb"
      },
      "source": [
        ""
      ],
      "execution_count": null,
      "outputs": []
    },
    {
      "cell_type": "code",
      "metadata": {
        "id": "DSCutYY2xCsT"
      },
      "source": [
        ""
      ],
      "execution_count": null,
      "outputs": []
    },
    {
      "cell_type": "code",
      "metadata": {
        "colab": {
          "base_uri": "https://localhost:8080/"
        },
        "id": "V-BdTE1QOiuT",
        "outputId": "1f902a89-ff1b-49d2-9028-b6802fcbb028"
      },
      "source": [
        "url = \"https://en.wikipedia.org/wiki/Abdelmadjid_Tebboune\"\n",
        "x=url.rsplit('/',1)\n",
        "x=url.rsplit('/',1)[1]\n",
        "x=x.replace('_', ' ')\n",
        "print(x)"
      ],
      "execution_count": null,
      "outputs": [
        {
          "output_type": "stream",
          "name": "stdout",
          "text": [
            "Abdelmadjid Tebboune\n"
          ]
        }
      ]
    },
    {
      "cell_type": "code",
      "metadata": {
        "colab": {
          "base_uri": "https://localhost:8080/"
        },
        "id": "zFlLuu7QOh77",
        "outputId": "a9ed5475-2aa5-4182-b22c-74c1ab5b8977"
      },
      "source": [
        "#trial cell\n",
        "import re\n",
        "presidents['political_party'] = []\n",
        "page = requests.get(\"https://en.wikipedia.org/wiki/Abdelmadjid_Tebboune\")\n",
        "soup = BeautifulSoup(page.content)\n",
        "\n",
        "# table = soup.find(class_ = \"infobox vcard\").tbody \n",
        "# tag = table.find(string=re.compile(\"Assumed office\")).find_parent('td').text\n",
        "# print (tag)\n",
        "table = soup.find(class_ = \"infobox vcard\").tbody.children     \n",
        "if type(table)!= bs4.element.NavigableString:           \n",
        "    for table_data in table:\n",
        "        if type(table_data)!= bs4.element.NavigableString:\n",
        "            tag = table_data.find(\"th\")\n",
        "            if (tag is None):\n",
        "              continue\n",
        "            if (tag.text == \"Born\"):\n",
        "              birthdate = tag.find_next_sibling()\n",
        "              birthdate = birthdate.find(\"span\").text\n",
        "              print(birthdate)\n",
        "                "
      ],
      "execution_count": null,
      "outputs": [
        {
          "output_type": "stream",
          "name": "stdout",
          "text": [
            " (1945-11-17) \n"
          ]
        }
      ]
    },
    {
      "cell_type": "code",
      "metadata": {
        "id": "cHYTrQhNkN6T"
      },
      "source": [
        "############### defining the methods to get country info ###############\n",
        "#getting the area of the country\n",
        "def get_country_area()\n",
        "return \n",
        "\n",
        "#getting the area of the country\n",
        "def get_country_area()\n",
        "return \n",
        "\n",
        "#getting the area of the country\n",
        "def get_country_area()\n",
        "return \n",
        "\n",
        "#getting the area of the country\n",
        "def get_country_area()\n",
        "return \n",
        "\n",
        "########################################################################\n"
      ],
      "execution_count": null,
      "outputs": []
    },
    {
      "cell_type": "code",
      "metadata": {
        "id": "VbTZrHn0kN2R"
      },
      "source": [
        ""
      ],
      "execution_count": null,
      "outputs": []
    },
    {
      "cell_type": "code",
      "metadata": {
        "id": "ERQ77jXWkN0S"
      },
      "source": [
        ""
      ],
      "execution_count": null,
      "outputs": []
    },
    {
      "cell_type": "code",
      "metadata": {
        "id": "Dv47n35IkNyB"
      },
      "source": [
        ""
      ],
      "execution_count": null,
      "outputs": []
    },
    {
      "cell_type": "code",
      "metadata": {
        "id": "PR6yFUWjkNqi"
      },
      "source": [
        ""
      ],
      "execution_count": null,
      "outputs": []
    },
    {
      "cell_type": "code",
      "metadata": {
        "id": "RKqumWElvTQS"
      },
      "source": [
        "page = requests.get(\"https://en.wikipedia.org/wiki/List_of_sovereign_states_and_dependent_territories_in_Africa\")\n",
        "soup = BeautifulSoup(page.content)\n",
        "\n",
        "# getting the table rows\n",
        "table_rows = list(soup.find(class_ = \"wikitable sortable\").tbody.children) "
      ],
      "execution_count": null,
      "outputs": []
    },
    {
      "cell_type": "code",
      "metadata": {
        "id": "2M5PZrd4C0Vb"
      },
      "source": [
        "table_rows_num = len(table_rows)\n",
        "country_name = None     \n",
        "capital_name = None\n",
        "latitude = None\n",
        "longitude = None\n",
        "Population = None\n",
        "language = None\n",
        "counter = 0; \n",
        "\n",
        "for i in range(table_rows_num): \n",
        "    table_row = table_rows[i]\n",
        "    country_name = None\n",
        "    capital_name = None\n",
        "    language = None\n",
        "    if type(table_row)!= bs4.element.NavigableString:           \n",
        "        for table_data in table_row.children:\n",
        "            # getting country_name\n",
        "            if type(table_data)!= bs4.element.NavigableString:\n",
        "                country_tag = table_data.find(\"a\", title=True)\n",
        "                if country_tag:\n",
        "                    if not country_name:\n",
        "                        country_name = country_tag.text\n",
        "                        counter = counter + 1 \n",
        "                        print(country_name)\n",
        "            \n",
        "            # getting capital_name\n",
        "            #if type(table_data)!= bs4.element.NavigableString:\n",
        "            #    capital_tag = table_data.find(\"a\", title=True)\n",
        "            #    if capital_tag:\n",
        "            #        if not capital_name:\n",
        "            #            capital_name = capital_tag.text\n",
        "            #            print(capital_name)\n",
        "\n",
        "print(\"Found\", counter, \"countries in Africa\");"
      ],
      "execution_count": null,
      "outputs": []
    },
    {
      "cell_type": "code",
      "metadata": {
        "id": "97b86fee"
      },
      "source": [
        "import re\n",
        "def make_sure_with_regex_that_this_is_ib_country_largest(class_attribute_value):\n",
        "    return class_attribute_value and re.compile(\"ib-.*-largest\").search(class_attribute_value)\n",
        "\n",
        "table_rows_num = len(table_rows) # to define the range of our loop\n",
        "# we will store the scraped data here\n",
        "country_name = None     \n",
        "capital_name = None\n",
        "latitude = None\n",
        "longitude = None\n",
        "\n",
        "# of course you can consume the iterator like `for row in table_rows:`\n",
        "# but I found it helpful to manipulate the current index of iteration in some situations\n",
        "\n",
        "for i in range(table_rows_num): \n",
        "    table_row = table_rows[i]\n",
        "    for table_data in table_row.children:\n",
        "        \n",
        "        # getting name\n",
        "        country_name_tag = table_data.find(class_=\"country-name\")\n",
        "        \n",
        "        # this condition will only be true if the current table_row\n",
        "        # contains \"country_name\" class value ... this will make it\n",
        "        # safe to run the \"parsing\" logic for every row without\n",
        "        # the fear of overwriting the data you scraped\n",
        "        if country_name_tag:\n",
        "            country_name = country_name_tag.text\n",
        "        \n",
        "        # getting the capital name and coordinates\n",
        "        capital_tag = table_data.find(class_=make_sure_with_regex_that_this_is_ib_country_largest)\n",
        "        # See the if condition again so we don't overwrite the data\n",
        "        # we scraped\n",
        "        if capital_tag:\n",
        "            second_child = list(table_row.children)[1]\n",
        "            capital_name_tag = second_child.find(title=True)\n",
        "            if capital_name_tag:\n",
        "                capital_name = capital_name_tag.text\n",
        "\n",
        "            latitude = second_child.find(class_=\"latitude\").text\n",
        "            longitude = second_child.find(class_=\"longitude\").text        "
      ],
      "execution_count": null,
      "outputs": []
    },
    {
      "cell_type": "code",
      "metadata": {
        "colab": {
          "base_uri": "https://localhost:8080/"
        },
        "id": "sNSXF2x3zr5Q",
        "outputId": "6d1f4d23-b895-4c7a-8d2e-98afa8aa6858"
      },
      "source": [
        "#print the elements separated by ..\n",
        "print(country_name, capital_name, latitude, longitude, sep = ' .. ')\n",
        "\n",
        "# we only have one row of data \n",
        "import pandas as pd\n",
        "to_be_transformed_into_pandas_dataframe = [{\"id\": 1, \"name\": country_name, \"capital\": capital_name, \"latitude\": latitude, \"longitude\": longitude}]\n",
        "# transform into dataframe\n",
        "df = pd.DataFrame(to_be_transformed_into_pandas_dataframe)\n",
        "\n",
        "#print the data frame\n",
        "df\n",
        "\n",
        "#Load this dataframe into csv that would finally go into your database\n",
        "df.to_csv(\"country_data.csv\", sep=',', encoding='utf-8', index=False)\n",
        "\n",
        "#try reading the new file\n",
        "!cat country_data.csv"
      ],
      "execution_count": null,
      "outputs": [
        {
          "output_type": "stream",
          "name": "stdout",
          "text": [
            "Hellenic Republic .. Athens .. 37°58′N .. 23°43′E\n",
            "id,name,capital,latitude,longitude\n",
            "1,Hellenic Republic,Athens,37°58′N,23°43′E\n"
          ]
        }
      ]
    },
    {
      "cell_type": "code",
      "metadata": {
        "id": "9EuWkyxW0nfT"
      },
      "source": [
        ""
      ],
      "execution_count": null,
      "outputs": []
    }
  ]
}